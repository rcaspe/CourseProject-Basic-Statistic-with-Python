{
 "cells": [
  {
   "cell_type": "markdown",
   "metadata": {},
   "source": [
    "## Coding Challenge"
   ]
  },
  {
   "cell_type": "markdown",
   "metadata": {},
   "source": [
    "This is my coding challenge\n",
    "\n",
    "Get the **Average** online buys for the past **5 weeks**"
   ]
  },
  {
   "cell_type": "code",
   "execution_count": 2,
   "metadata": {},
   "outputs": [
    {
     "name": "stdout",
     "output_type": "stream",
     "text": [
      "This is my average online buys for the past 5 weeks:  20.6\n"
     ]
    }
   ],
   "source": [
    "# define a function for average\n",
    "def gm(ave):\n",
    "    print(\"This is my average online buys for the past 5 weeks: \", ave)\n",
    "\n",
    "# variable with the values of online buys\n",
    "n_num = [19, 27, 17, 24, 16]\n",
    "# count the arguments\n",
    "tolist = len(n_num)\n",
    "\n",
    "# total sum of the list\n",
    "n_sum = sum(n_num)\n",
    "# devide the total sum to the total item in the list\n",
    "n_mean = n_sum / tolist\n",
    "\n",
    "gm(n_mean)\n",
    "\n",
    "\n"
   ]
  },
  {
   "cell_type": "markdown",
   "metadata": {},
   "source": [
    "Here the **different approach**"
   ]
  },
  {
   "cell_type": "code",
   "execution_count": 4,
   "metadata": {},
   "outputs": [
    {
     "name": "stdout",
     "output_type": "stream",
     "text": [
      "Average purchased items:\n",
      "20.6\n"
     ]
    }
   ],
   "source": [
    "import array as arr\n",
    "\n",
    "def display_ave():\n",
    "    print(\"Average purchased items:\")\n",
    "\n",
    "def get_ave():\n",
    "    n = len(items)\n",
    "    get_sum = sum(items)\n",
    "    mean = get_sum / n\n",
    "    m = str(mean)\n",
    "    print(m)\n",
    "\n",
    "online_pur = [19, 27, 17, 24, 16]\n",
    "\n",
    "sample_data = arr.array('i', online_pur)\n",
    "items = sample_data[0:5]\n",
    "sample_data_list = items.tolist()\n",
    "\n",
    "display_ave()\n",
    "get_ave()"
   ]
  }
 ],
 "metadata": {
  "kernelspec": {
   "display_name": "Python 3.10.5 64-bit",
   "language": "python",
   "name": "python3"
  },
  "language_info": {
   "codemirror_mode": {
    "name": "ipython",
    "version": 3
   },
   "file_extension": ".py",
   "mimetype": "text/x-python",
   "name": "python",
   "nbconvert_exporter": "python",
   "pygments_lexer": "ipython3",
   "version": "3.10.5"
  },
  "orig_nbformat": 4,
  "vscode": {
   "interpreter": {
    "hash": "79cc8e163952f9be52cf44dd5c40bafdac0af57d6faa23103e25e14bb86fe8a7"
   }
  }
 },
 "nbformat": 4,
 "nbformat_minor": 2
}
