{
 "cells": [
  {
   "cell_type": "markdown",
   "metadata": {},
   "source": [
    "## to find the median\n",
    "## actual code"
   ]
  },
  {
   "cell_type": "code",
   "execution_count": null,
   "metadata": {},
   "outputs": [],
   "source": [
    "import array as arr\n",
    "\n",
    "def median(nums):\n",
    "    nums.sort()\n",
    "    if len(nums)%2 == 0:\n",
    "        return int(nums[len(nums)//2-1]+nums[len(nums)//2])/2\n",
    "    else:\n",
    "        return nums[len(nums)//2]\n",
    "\n",
    "n_num = [78, 80, 79, 80, 87, 85]\n",
    "\n",
    "print(\"Median\", median(n_num))"
   ]
  },
  {
   "cell_type": "markdown",
   "metadata": {},
   "source": [
    "## to use build it python statistics library"
   ]
  },
  {
   "cell_type": "code",
   "execution_count": 2,
   "metadata": {},
   "outputs": [
    {
     "name": "stdout",
     "output_type": "stream",
     "text": [
      "Variance:  4.91\n"
     ]
    }
   ],
   "source": [
    "import statistics\n",
    "\n",
    "friends_usage = [5, 4, 3, 5, 8, 2, 5, 8, 10, 8, 7, 9, 10, 5, 7, 5, 7, 5, 4, 3, 5, 8, 4]\n",
    "variance = round(statistics.pvariance(friends_usage), 2)\n",
    "print(\"Variance: \", variance)"
   ]
  },
  {
   "cell_type": "markdown",
   "metadata": {},
   "source": [
    "### built in statistics methods (libraries) for getting the measures of central tendency and disversion\n",
    "\n",
    "**statistics.mean()**\n",
    "**statistics.median()**\n",
    "**statistics.mode()**\n",
    "**statistics.pvariance()**\n",
    "**statistics.variance()**\n",
    "**statistics.pstdev()**\n",
    "**statistics.stdev()**"
   ]
  },
  {
   "cell_type": "markdown",
   "metadata": {},
   "source": [
    "## Descriptive Statistics"
   ]
  },
  {
   "cell_type": "code",
   "execution_count": 4,
   "metadata": {},
   "outputs": [
    {
     "name": "stdout",
     "output_type": "stream",
     "text": [
      "5.76\n",
      "5\n",
      "5\n",
      "2.27\n",
      "5.14\n",
      "8\n"
     ]
    }
   ],
   "source": [
    "import statistics\n",
    "\n",
    "# data set\n",
    "friends_usage = [5, 4, 3, 5, 8, 2, 5, 2, 5, 8, 10, 8, 7, 9, 10, 5, 7, 5, 7, 5, 4, 3, 5, 8, 4]\n",
    "\n",
    "mean = statistics.mean(friends_usage)\n",
    "mode = statistics.mode(friends_usage)\n",
    "median = statistics.median(friends_usage)\n",
    "pstdev = round(statistics.pstdev(friends_usage), 2)\n",
    "pvariance = round(statistics.pvariance(friends_usage), 2)\n",
    "srange = (max(friends_usage)-min(friends_usage))\n",
    "\n",
    "print(mean)\n",
    "print(mode)\n",
    "print(median)\n",
    "print(pstdev)\n",
    "print(pvariance)\n",
    "print(srange)\n",
    "\n"
   ]
  },
  {
   "cell_type": "markdown",
   "metadata": {},
   "source": [
    "**note**: All these statistical operations use the methods in the statistics library except for the range. In finding the range, we simple find the minimum value of our dataset and subtract it from the maximum value"
   ]
  },
  {
   "cell_type": "markdown",
   "metadata": {},
   "source": [
    "## Method and Description\n",
    "\n",
    "\n",
    "**statistics.mean()**: Calculates the mean (average) of the given data\n",
    "**statistics.median()**: Calculates the median (median or middle value) of the given data\n",
    "**statistics.mode()**: Calculates the mode (central tendency or most frequent) of the given numberic or nominal data\n",
    "**statistics.pvariance()**: Calculates variance of an entire population\n",
    "**statistics.variance()**: Calculates the variance from a sample of data\n",
    "**statistics.pstdev()**: Calculates the standard deviation from an entire population\n",
    "**statistics.stdev()**: Calculates the standard deviation from sa sample of data"
   ]
  },
  {
   "cell_type": "markdown",
   "metadata": {},
   "source": [
    "## to deal with population data set and not a sample\n",
    "\n",
    "use **statistics.pvariance** and **statistics.pstdev()** to get the variance and standard deviation"
   ]
  },
  {
   "cell_type": "markdown",
   "metadata": {},
   "source": [
    "## POPULATION CODE "
   ]
  },
  {
   "cell_type": "code",
   "execution_count": 5,
   "metadata": {},
   "outputs": [
    {
     "name": "stdout",
     "output_type": "stream",
     "text": [
      "Mean:  5.76\n",
      "Mode:  5\n",
      "Median:  5\n",
      "pstdev:  2.27\n",
      "pvariance:  5.14\n",
      "srange:  8\n"
     ]
    }
   ],
   "source": [
    "import statistics\n",
    "friends_usage = [5, 4, 3, 5, 8, 2, 5, 2, 5, 8, 10, 8, 7, 9, 10, 5, 7, 5, 7, 5, 4, 3, 5, 8, 4]\n",
    "\n",
    "mean = statistics.mean(friends_usage)\n",
    "mode = statistics.mode(friends_usage)\n",
    "median = statistics.median(friends_usage)\n",
    "pstdev = round(statistics.pstdev(friends_usage), 2)\n",
    "pvariance = round(statistics.pvariance(friends_usage), 2)\n",
    "srange = (max(friends_usage)-min(friends_usage))\n",
    "\n",
    "print(\"Mean: \", mean)\n",
    "print(\"Mode: \", mode)\n",
    "print(\"Median: \", median)\n",
    "print(\"pstdev: \", pstdev)\n",
    "print(\"pvariance: \", pvariance)\n",
    "print(\"srange: \", srange)\n"
   ]
  },
  {
   "cell_type": "markdown",
   "metadata": {},
   "source": [
    "**NOTE: **\n",
    "\n",
    "if we want to described or analyst the complete count of the **group or data set** we consider this a **population**, and if we only get a portion of a population such as 5 values out of 25, the 5 elements then become a **subset or a sample of population**\n",
    "\n",
    "Statistical analyses are usually based on sample data and not on an entire population"
   ]
  },
  {
   "cell_type": "markdown",
   "metadata": {},
   "source": [
    "## SAMPLE CODE\n",
    "\n",
    "import array as arr\n",
    "sample_data = arr.array('i', friends_usage)\n",
    "dataset = sample_data[0:5]\n",
    "sample_data_list = dataset.tolist()"
   ]
  },
  {
   "cell_type": "code",
   "execution_count": 8,
   "metadata": {},
   "outputs": [
    {
     "name": "stdout",
     "output_type": "stream",
     "text": [
      "Mean:  5.76\n",
      "Mode:  5\n",
      "Median:  5\n",
      "pstdev:  2.27\n",
      "pvariance:  5.14\n",
      "srange:  8\n",
      "sample: variance:  3.5\n",
      "sample: stdev:  1.87\n"
     ]
    }
   ],
   "source": [
    "import statistics\n",
    "#from sample\n",
    "import array as arr\n",
    "\n",
    "friends_usage = [5, 4, 3, 5, 8, 2, 5, 2, 5, 8, 10, 8, 7, 9, 10, 5, 7, 5, 7, 5, 4, 3, 5, 8, 4]\n",
    "\n",
    "#from sample\n",
    "import array as arr\n",
    "sample_data = arr.array('i', friends_usage)\n",
    "dataset = sample_data[0:5]\n",
    "sample_data_list = dataset.tolist()\n",
    "\n",
    "mean = statistics.mean(friends_usage)\n",
    "mode = statistics.mode(friends_usage)\n",
    "median = statistics.median(friends_usage)\n",
    "pstdev = round(statistics.pstdev(friends_usage), 2)\n",
    "pvariance = round(statistics.pvariance(friends_usage), 2)\n",
    "srange = (max(friends_usage)-min(friends_usage))\n",
    "\n",
    "#from sample\n",
    "variance = round(statistics.variance(sample_data_list),2)\n",
    "stdev = round(statistics.stdev(sample_data_list),2)\n",
    "\n",
    "print(\"Mean: \", mean)\n",
    "print(\"Mode: \", mode)\n",
    "print(\"Median: \", median)\n",
    "print(\"pstdev: \", pstdev)\n",
    "print(\"pvariance: \", pvariance)\n",
    "print(\"srange: \", srange)\n",
    "\n",
    "#from sample\n",
    "print(\"sample: variance: \", variance)\n",
    "print(\"sample: stdev: \", stdev)"
   ]
  },
  {
   "cell_type": "markdown",
   "metadata": {},
   "source": [
    "# SAMPLE CODE FOR EACH METHOD"
   ]
  },
  {
   "cell_type": "markdown",
   "metadata": {},
   "source": [
    "## MEAN CODE\n",
    "\n",
    "def get_mean(ave):\n",
    "    print(\"The mean of this list is: \", ave)\n",
    "\n",
    "n_num = [78, 80, 79, 80, 87, 85]\n",
    "n = len(n_num)\n",
    "\n",
    "get_sum = sum(n_num)\n",
    "mean = get_sum / n\n",
    "\n",
    "m = str(mean)\n",
    "get_mean(m)"
   ]
  },
  {
   "cell_type": "markdown",
   "metadata": {},
   "source": [
    "## MEDIAN CODE\n",
    "\n",
    "import array as arr\n",
    "\n",
    "def median(nums):\n",
    "    nums.sor()\n",
    "    if len(nums)%2 == 0:\n",
    "        return int(nums[len(nums)//2-1]+nums[len(nums)//2])/2\n",
    "    else:\n",
    "        return nums[len(nums)//2]\n",
    "\n",
    "n_num = [79, 80, 79, 80, 97, 85]\n",
    "print(\"Median: \", median(n_num))"
   ]
  },
  {
   "cell_type": "markdown",
   "metadata": {},
   "source": [
    "## VARIANCE CODE\n",
    "\n",
    "friends_usage = [5, 4, 3, 5, 8, 2, 5, 2, 5, 8, 10, 8, 7, 9, 10, 5, 7, 5, 7, 5, 4, 3, 5, 8, 4]\n",
    "\n",
    "def print_friends_usage(friends_usage):\n",
    "    for usage in friends_usage:\n",
    "        print(usage)\n",
    "def friends_usage_sum(friends_usage):\n",
    "    total = 0\n",
    "    for usage in friends_usage:\n",
    "        total += usage\n",
    "    return total\n",
    "def friends_usage_average(friends_usage):\n",
    "    sum_of_friends_usage = friends_usage_sum(friends_usage)\n",
    "    average = sum_of_friends_usage / float (len(friends_usage))\n",
    "    return average\n",
    "def friends_usage_variance(scores)\n",
    "    average = friends_usage_average(scores)\n",
    "    variance = 0\n",
    "    for score in scores:\n",
    "        variance = variance + (average - score) ** 2\n",
    "    return variance/len(scores)\n",
    "v = round(friends_usage_variance(friends_usage),2)\n",
    "print(\"Variance: \", v)"
   ]
  },
  {
   "cell_type": "markdown",
   "metadata": {},
   "source": [
    "## STANDARD DEVIATION CODE\n",
    "\n",
    "def friends_usage_std_deviation(variance):\n",
    "    return variance ** 0.5\n",
    "\n",
    "variance = friends_usage_variance(friends_usage)\n",
    "s = round(friends_usage_std_deviation(variance),2)\n",
    "print(\"Standard Deviation: \", s)"
   ]
  },
  {
   "cell_type": "markdown",
   "metadata": {},
   "source": [
    "## DESCRIPTIVE STATISTICS(POPULATION) USING PYTHON'S STATISTICS MODULE CODE\n",
    "\n",
    "import statistics\n",
    "\n",
    "friends_usage = [5, 4, 3, 5, 8, 2, 5, 2, 5, 8, 10, 8, 7, 9, 10, 5, 7, 5, 7, 5, 4, 3, 5, 8, 4]\n",
    "\n",
    "mean = statistics.mean(friends_usage)\n",
    "mode = statistics.mode(friends_usage)\n",
    "median = statistics.median(friends_usage)\n",
    "pstdev = round(statistics.pstdev(friends_usage),2)\n",
    "pvariance = round(statistics.pvariance(friends_usage),2)\n",
    "srange = (max(friends_usage) - min (friends_usage))\n",
    "\n",
    "print(\"Descriptiove Statistics: \")\n",
    "print(\"Mean: \", mean)\n",
    "print(\"Mode: \", mode)\n",
    "print(\"Median: \", median)\n",
    "print(\"Range: \", srange)\n",
    "print(\"Population Variance: \", pvariance)\n",
    "print(\"Population Standard Deviation: \", pstdev)"
   ]
  },
  {
   "cell_type": "markdown",
   "metadata": {},
   "source": [
    "## DESCRIPTIVE STATISTICS (POPULATION AND SAMPLE DATA)\n",
    "\n",
    "import statistics\n",
    "import array as arr\n",
    "\n",
    "friends_usage = [5, 4, 3, 5, 8, 2, 5, 2, 5, 8, 10, 8, 7, 9, 10, 5, 7, 5, 7, 5, 4, 3, 5, 8, 4]\n",
    "\n",
    "sample_data = arr.array('i', friends_usage)\n",
    "dataset = sample_data[0:5]\n",
    "sample_data_list = dataset.tolist()\n",
    "\n",
    "mean = statistics.mean(friends_usage)\n",
    "mode = statistics.mode(friends_usage)\n",
    "median = statistics.median(friends_usage)\n",
    "pstdev = round(statistics.pstdev(friends_usage),2)\n",
    "pvariance = round(statistics.pvariance(friends_usage),2)\n",
    "srange = (max(friends_usage) - min (friends_usage))\n",
    "\n",
    "variance = round(statistics.variance(sample_data_list),2)\n",
    "stdev = round(statistics.stdev(sample_data_list),2)\n",
    "\n",
    "print(\"Descriptiove Statistics: \")\n",
    "print(\"Mean: \", mean)\n",
    "print(\"Mode: \", mode)\n",
    "print(\"Median: \", median)\n",
    "print(\"Range: \", srange)\n",
    "print(\"Sample Data Variance: \", variance)\n",
    "print(\"Population Variance: \", pvariance)\n",
    "print(\"Sample Data Standard Deviation: \", stdev)\n",
    "print(\"Population Standard Deviation: \", pstdev)"
   ]
  }
 ],
 "metadata": {
  "kernelspec": {
   "display_name": "Python 3.10.5 64-bit",
   "language": "python",
   "name": "python3"
  },
  "language_info": {
   "codemirror_mode": {
    "name": "ipython",
    "version": 3
   },
   "file_extension": ".py",
   "mimetype": "text/x-python",
   "name": "python",
   "nbconvert_exporter": "python",
   "pygments_lexer": "ipython3",
   "version": "3.10.5"
  },
  "orig_nbformat": 4,
  "vscode": {
   "interpreter": {
    "hash": "79cc8e163952f9be52cf44dd5c40bafdac0af57d6faa23103e25e14bb86fe8a7"
   }
  }
 },
 "nbformat": 4,
 "nbformat_minor": 2
}
